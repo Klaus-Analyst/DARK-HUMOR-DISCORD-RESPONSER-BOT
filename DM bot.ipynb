{
 "cells": [
  {
   "cell_type": "code",
   "execution_count": 1,
   "metadata": {
    "ExecuteTime": {
     "end_time": "2020-03-28T17:59:27.573016Z",
     "start_time": "2020-03-28T17:59:27.247274Z"
    }
   },
   "outputs": [],
   "source": [
    "from selenium import webdriver\n",
    "from selenium.common.exceptions import NoSuchElementException, StaleElementReferenceException\n",
    "from selenium.webdriver.common.keys import Keys\n",
    "import time\n",
    "from random import randint"
   ]
  },
  {
   "cell_type": "code",
   "execution_count": 8,
   "metadata": {
    "ExecuteTime": {
     "end_time": "2020-03-28T18:06:34.733979Z",
     "start_time": "2020-03-28T18:06:34.692415Z"
    }
   },
   "outputs": [],
   "source": [
    "def login():\n",
    "    path = '/Users/inika/Selenium Webdrivers/chromedriver'\n",
    "    driver = webdriver.Chrome(path)\n",
    "\n",
    "    username = \" \"\n",
    "    password = \" \"\n",
    "\n",
    "    driver.get('https://discordapp.com')\n",
    "    time.sleep(1)\n",
    "\n",
    "    try:\n",
    "        driver.find_element_by_link_text(\"Login\").click()\n",
    "        tb = driver.find_elements_by_tag_name(\"input\")\n",
    "\n",
    "        tb[0].send_keys(username)\n",
    "        tb[1].send_keys(password)\n",
    "        tb[1].submit()\n",
    "\n",
    "    except NoSuchElementException:\n",
    "            driver.find_element_by_link_text(\"Open\").click() \n",
    "    time.sleep(10)\n",
    "    return driver\n",
    "\n",
    "def goToServer(server):\n",
    "    servers = driver.find_elements_by_xpath(\"//div[@class = 'listItem-2P_4kh']\")[2:-4]\n",
    "    for s in servers:\n",
    "        a = s.find_element_by_tag_name('a')\n",
    "        try:\n",
    "            if a.get_attribute(\"aria-label\")==server:\n",
    "                a.click()\n",
    "                time.sleep(1)\n",
    "                break\n",
    "        except StaleElementReferenceException:\n",
    "            print(\"No such Server\")\n",
    "            \n",
    "def goToChannel(channel):\n",
    "    channels = driver.find_elements_by_class_name(\"name-3_Dsmg\")\n",
    "    for c in channels:\n",
    "        if c.text == channel.lower():\n",
    "            c.click()\n",
    "            \n",
    "def sendMessage(message):\n",
    "    current_channel = driver.find_element_by_xpath(\"//h3[@class = 'title-29uC1r base-1x0h_U size16-1P40sf']\").text\n",
    "    searchbox = driver.find_element_by_xpath('//div[@aria-label = \"Message #'+current_channel+'\"]')\n",
    "    searchbox.send_keys(message)\n",
    "    searchbox.send_keys(Keys.RETURN)\n",
    "    \n",
    "    \n",
    "def frogSearch():\n",
    "    places = []\n",
    "    options = driver.find_elements_by_xpath(\"//div[@class = 'markup-2BOw-j messageContent-2qWWxC']//code\")\n",
    "    for i in options:\n",
    "        places.append(i.text)\n",
    "    sendMessage(places[randint(0,len(places)-1)])\n",
    "    print(places)\n",
    "\n",
    "def bot():\n",
    "    prefix = 'pls '\n",
    "    commands = [prefix+c for c in ['beg','fish','pm','search']]\n",
    "    petcommands = [prefix+'pet '+c for c in ['feed','wash','play','pat']]\n",
    "    memes = ['n','e','r','d']\n",
    "\n",
    "    # for com in commands[:-2]:\n",
    "    while True:\n",
    "        com = commands[randint(0,len(commands)-1)]\n",
    "        sendMessage('!clear 10')\n",
    "        if 'pm' in com:\n",
    "            sendMessage(com)\n",
    "            time.sleep(1)\n",
    "            sendMessage(memes[randint(0,len(memes)-1)])\n",
    "        elif 'search' in com:\n",
    "            sendMessage(com)\n",
    "            time.sleep(1)\n",
    "            frogSearch()\n",
    "        else:\n",
    "            sendMessage(com)\n",
    "        time.sleep(60)"
   ]
  },
  {
   "cell_type": "code",
   "execution_count": null,
   "metadata": {
    "ExecuteTime": {
     "start_time": "2020-03-28T18:06:40.159Z"
    }
   },
   "outputs": [],
   "source": [
    "driver = login()\n",
    "goToServer('sandcastle')\n",
    "goToChannel('spam')\n",
    "bot()"
   ]
  },
  {
   "cell_type": "code",
   "execution_count": null,
   "metadata": {},
   "outputs": [],
   "source": []
  }
 ],
 "metadata": {
  "kernelspec": {
   "display_name": "Python 3",
   "language": "python",
   "name": "python3"
  },
  "language_info": {
   "codemirror_mode": {
    "name": "ipython",
    "version": 3
   },
   "file_extension": ".py",
   "mimetype": "text/x-python",
   "name": "python",
   "nbconvert_exporter": "python",
   "pygments_lexer": "ipython3",
   "version": "3.7.6"
  },
  "toc": {
   "base_numbering": 1,
   "nav_menu": {},
   "number_sections": true,
   "sideBar": true,
   "skip_h1_title": false,
   "title_cell": "Table of Contents",
   "title_sidebar": "Contents",
   "toc_cell": false,
   "toc_position": {},
   "toc_section_display": true,
   "toc_window_display": false
  }
 },
 "nbformat": 4,
 "nbformat_minor": 2
}
